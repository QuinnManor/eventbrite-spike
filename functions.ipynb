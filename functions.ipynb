{
 "cells": [
  {
   "cell_type": "code",
   "execution_count": 27,
   "metadata": {},
   "outputs": [],
   "source": [
    "class CaseInsensitively(object):\n",
    "    def __init__(self, s):\n",
    "        self.__s = s.lower()\n",
    "    def __hash__(self):\n",
    "        return hash(self.__s)\n",
    "    def __eq__(self, other):\n",
    "        # ensure proper comparison between instances of this class\n",
    "        try:\n",
    "           other = other.__s\n",
    "        except (TypeError, AttributeError):\n",
    "          try:\n",
    "             other = other.lower()\n",
    "          except:\n",
    "             pass\n",
    "        return self.__s == other"
   ]
  },
  {
   "cell_type": "code",
   "execution_count": 28,
   "metadata": {},
   "outputs": [],
   "source": [
    "def get_eventbrite_list(list_type='contact'):\n",
    "    return get_contact_list() if list_type == 'contact' else create_event_name_column(get_event_list())\n",
    "\n",
    "\n",
    "def get_contact_list():\n",
    "    number_of_pages = connect().get_user_owned_event_orders(user_id())['pagination']['page_count']\n",
    "    \n",
    "    return [\n",
    "        connect().get_user_owned_event_orders(user_id(), page=page_number)\n",
    "        for page_number in tqdm(range(1, number_of_pages + 1), total=number_of_pages, desc=\"Contact Pages to Scrape\")\n",
    "    ]\n",
    "\n",
    "\n",
    "def create_event_name_column(event_list):\n",
    "    for i in range(0, len(event_list)):\n",
    "        for event in range(0, number_of_events):\n",
    "            event_list[i]['events'][event]['event_name'] = event_list[i]['events'][event]['name']['text']\n",
    "    \n",
    "    return event_list\n",
    "\n",
    "\n",
    "def get_event_list():\n",
    "    number_of_pages = connect().get_user_owned_events(user_id())['pagination']['page_count']\n",
    "    \n",
    "    return [\n",
    "        connect().get_user_owned_events(user_id(), page=page_number)\n",
    "        for page_number in tqdm(range(1, number_of_pages + 1), total=number_of_pages, desc=\"Event Pages to Scrape\")\n",
    "    ]"
   ]
  },
  {
   "cell_type": "code",
   "execution_count": 21,
   "metadata": {},
   "outputs": [],
   "source": [
    "def convert_eventbrite_list_to_dataframe(eventbrite_list, list_type='contact'):\n",
    "    df = pd.DataFrame()\n",
    "    \n",
    "    return convert_contact_list_to_dataframe(eventbrite_list, df) if list_type == 'contact'\\\n",
    "           else convert_event_list_to_dataframe(eventbrite_list, df)\n",
    "\n",
    "\n",
    "def convert_contact_list_to_dataframe(contact_list, df):\n",
    "    for i in range(0, len(contact_list)):\n",
    "        df = df.append(contact_list[i]['orders'])\n",
    "    return df.rename(columns={'name': 'full_name', 'id': 'contact_id'})\n",
    "    \n",
    "    \n",
    "def convert_event_list_to_dataframe(event_list, df):\n",
    "    for i in range(0, len(event_list)):\n",
    "        df = df.append(event_list[i]['events'])\n",
    "    return df.rename(columns={'id': 'event_id'})"
   ]
  },
  {
   "cell_type": "code",
   "execution_count": 20,
   "metadata": {},
   "outputs": [],
   "source": [
    "def combined_contacts_and_events(contacts_dataframe, events_dataframe):\n",
    "    return pd.concat(\n",
    "        [\n",
    "            contacts_dataframe.set_index('event_id'),\n",
    "            events_dataframe.set_index('event_id')\n",
    "        ], axis=1, join='inner'\n",
    "    ).reset_index()"
   ]
  },
  {
   "cell_type": "code",
   "execution_count": 22,
   "metadata": {},
   "outputs": [],
   "source": [
    "def create_event_name_column(event_list):\n",
    "    for i in range(0, len(event_list)):\n",
    "        for event in range(0, number_of_events):\n",
    "            event_list[i]['events'][event]['event_name'] = event_list[i]['events'][event]['name']['text']\n",
    "    \n",
    "    return event_list"
   ]
  }
 ],
 "metadata": {
  "kernelspec": {
   "display_name": "Python 3",
   "language": "python",
   "name": "python3"
  },
  "language_info": {
   "codemirror_mode": {
    "name": "ipython",
    "version": 3
   },
   "file_extension": ".py",
   "mimetype": "text/x-python",
   "name": "python",
   "nbconvert_exporter": "python",
   "pygments_lexer": "ipython3",
   "version": "3.7.0"
  }
 },
 "nbformat": 4,
 "nbformat_minor": 2
}
